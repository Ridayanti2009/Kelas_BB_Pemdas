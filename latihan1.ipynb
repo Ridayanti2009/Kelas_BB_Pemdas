{
 "cells": [
  {
   "cell_type": "code",
   "execution_count": 2,
   "metadata": {},
   "outputs": [
    {
     "name": "stdout",
     "output_type": "stream",
     "text": [
      "Seluruh Data dari Data Panen:\n",
      "lokasi1: Nama Lokasi: Kebun A, Hasil Panen: {'padi': 1200, 'jagung': 800, 'kedelai': 500}\n",
      "lokasi2: Nama Lokasi: Kebun B, Hasil Panen: {'padi': 1500, 'jagung': 900, 'kedelai': 450}\n",
      "lokasi3: Nama Lokasi: Kebun C, Hasil Panen: {'padi': 1100, 'jagung': 750, 'kedelai': 600}\n",
      "lokasi4: Nama Lokasi: Kebun D, Hasil Panen: {'padi': 1300, 'jagung': 850, 'kedelai': 550}\n",
      "lokasi5: Nama Lokasi: Kebun E, Hasil Panen: {'padi': 1400, 'jagung': 950, 'kedelai': 480}\n",
      "\n"
     ]
    }
   ],
   "source": [
    "data_panen = {\n",
    "    'lokasi1': {\n",
    "        'nama_lokasi': 'Kebun A',\n",
    "        'hasil_panen': {\n",
    "            'padi': 1200,\n",
    "            'jagung': 800,\n",
    "            'kedelai': 500\n",
    "        }\n",
    "    },\n",
    "    'lokasi2': {\n",
    "        'nama_lokasi': 'Kebun B',\n",
    "        'hasil_panen': {\n",
    "            'padi': 1500,\n",
    "            'jagung': 900,\n",
    "            'kedelai': 450\n",
    "        }\n",
    "    },\n",
    "    'lokasi3': {\n",
    "        'nama_lokasi': 'Kebun C',\n",
    "        'hasil_panen': {\n",
    "            'padi': 1100,\n",
    "            'jagung': 750,\n",
    "            'kedelai': 600\n",
    "        }\n",
    "    },\n",
    "    'lokasi4': {\n",
    "        'nama_lokasi': 'Kebun D',\n",
    "        'hasil_panen': {\n",
    "            'padi': 1300,\n",
    "            'jagung': 850,\n",
    "            'kedelai': 550\n",
    "        }\n",
    "    },\n",
    "    'lokasi5': {\n",
    "        'nama_lokasi': 'Kebun E',\n",
    "        'hasil_panen': {\n",
    "            'padi': 1400,\n",
    "            'jagung': 950,\n",
    "            'kedelai': 480\n",
    "        }\n",
    "    }\n",
    "}\n",
    "\n",
    "print(\"Seluruh Data dari Data Panen:\")\n",
    "for lokasi, data in data_panen.items():\n",
    "    print(f\"{lokasi}: Nama Lokasi: {data['nama_lokasi']}, Hasil Panen: {data['hasil_panen']}\")\n",
    "print()\n"
   ]
  }
 ],
 "metadata": {
  "kernelspec": {
   "display_name": "Python 3",
   "language": "python",
   "name": "python3"
  },
  "language_info": {
   "codemirror_mode": {
    "name": "ipython",
    "version": 3
   },
   "file_extension": ".py",
   "mimetype": "text/x-python",
   "name": "python",
   "nbconvert_exporter": "python",
   "pygments_lexer": "ipython3",
   "version": "3.12.7"
  }
 },
 "nbformat": 4,
 "nbformat_minor": 2
}
